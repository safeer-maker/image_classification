{
 "cells": [
  {
   "cell_type": "markdown",
   "id": "fedab468",
   "metadata": {},
   "source": [
    "# Introduction\n",
    "In this project we are looking to classify images based on there apparance\n",
    "and try to do much more with them"
   ]
  },
  {
   "cell_type": "code",
   "execution_count": null,
   "id": "2ecb65fd",
   "metadata": {},
   "outputs": [],
   "source": []
  },
  {
   "cell_type": "markdown",
   "id": "82890705",
   "metadata": {},
   "source": [
    "Impoerting basic libararies\n"
   ]
  },
  {
   "cell_type": "code",
   "execution_count": null,
   "id": "2305a538",
   "metadata": {},
   "outputs": [],
   "source": []
  },
  {
   "cell_type": "code",
   "execution_count": 1,
   "id": "82023e11",
   "metadata": {},
   "outputs": [],
   "source": [
    "import numpy as np\n",
    "import pandas as pd\n",
    "import matplotlib.pyplot as plt\n",
    "from PIL import Image as img"
   ]
  },
  {
   "cell_type": "markdown",
   "id": "6988c4b2",
   "metadata": {},
   "source": [
    "Imports of Sklearn function and libaries"
   ]
  },
  {
   "cell_type": "code",
   "execution_count": 2,
   "id": "0474b5c2",
   "metadata": {},
   "outputs": [],
   "source": [
    "from sklearn.model_selection import train_test_split\n",
    "from sklearn.metrics import *\n"
   ]
  },
  {
   "cell_type": "markdown",
   "id": "92227119",
   "metadata": {},
   "source": [
    "import tenserflow libraries"
   ]
  },
  {
   "cell_type": "code",
   "execution_count": 3,
   "id": "961825bf",
   "metadata": {},
   "outputs": [],
   "source": [
    "import tensorflow as tf\n",
    "from tensorflow.keras.models import Sequential\n",
    "from tensorflow.keras.layers import Dense\n"
   ]
  },
  {
   "cell_type": "markdown",
   "id": "45a7329e",
   "metadata": {},
   "source": [
    "Importing dataset\n"
   ]
  },
  {
   "cell_type": "code",
   "execution_count": 4,
   "id": "b3c197a5",
   "metadata": {},
   "outputs": [
    {
     "name": "stdout",
     "output_type": "stream",
     "text": [
      " Volume in drive C is Win_11\n",
      " Volume Serial Number is 8281-55B4\n",
      "\n",
      " Directory of C:\\Users\\Safeer_Ahmad\\Documents\\Github\\image_classification\\Classification_data_set\n",
      "\n",
      "03/11/2023  01:00 AM    <DIR>          .\n",
      "03/11/2023  02:00 PM    <DIR>          ..\n",
      "03/11/2023  02:00 PM        15,514,855 Test_data_mod.csv\n",
      "03/11/2023  01:00 AM           104,942 TestLabels.csv\n",
      "03/11/2023  01:59 PM        46,970,973 Train_data_mod.csv\n",
      "               3 File(s)     62,590,770 bytes\n",
      "               2 Dir(s)  872,495,513,600 bytes free\n"
     ]
    }
   ],
   "source": [
    "ls Classification_data_set"
   ]
  },
  {
   "cell_type": "code",
   "execution_count": 6,
   "id": "fa75b9d1",
   "metadata": {},
   "outputs": [],
   "source": [
    "X_data   = pd.read_csv(\"Classification_data_set/Train_data_mod.csv\")\n",
    "X_laybel = pd.read_csv('Classification_data_set/TrainLabels.csv')\n",
    "y_data   = pd.read_csv('Classification_data_set/Test_data_mod.csv')\n",
    "y_laybel = pd.read_csv('Classification_data_set/TestLabels.csv')"
   ]
  },
  {
   "cell_type": "code",
   "execution_count": 7,
   "id": "b8bdd2d7",
   "metadata": {},
   "outputs": [
    {
     "name": "stdout",
     "output_type": "stream",
     "text": [
      "X_data =  (11999, 785)\n",
      "X_layb =  (11999, 1)\n",
      "y_data =  (3959, 785)\n",
      "y_layb =  (3959, 1)\n"
     ]
    }
   ],
   "source": [
    "print('X_data = ', X_data.shape)\n",
    "print('X_layb = ', X_laybel.shape)\n",
    "print('y_data = ', y_data.shape)\n",
    "print('y_layb = ', y_laybel.shape)\n"
   ]
  },
  {
   "cell_type": "code",
   "execution_count": 8,
   "id": "c1798fea",
   "metadata": {
    "scrolled": true
   },
   "outputs": [
    {
     "data": {
      "text/html": [
       "<div>\n",
       "<style scoped>\n",
       "    .dataframe tbody tr th:only-of-type {\n",
       "        vertical-align: middle;\n",
       "    }\n",
       "\n",
       "    .dataframe tbody tr th {\n",
       "        vertical-align: top;\n",
       "    }\n",
       "\n",
       "    .dataframe thead th {\n",
       "        text-align: right;\n",
       "    }\n",
       "</style>\n",
       "<table border=\"1\" class=\"dataframe\">\n",
       "  <thead>\n",
       "    <tr style=\"text-align: right;\">\n",
       "      <th></th>\n",
       "      <th>-1.000000000000000000e+00</th>\n",
       "    </tr>\n",
       "  </thead>\n",
       "  <tbody>\n",
       "    <tr>\n",
       "      <th>0</th>\n",
       "      <td>1.0</td>\n",
       "    </tr>\n",
       "    <tr>\n",
       "      <th>1</th>\n",
       "      <td>1.0</td>\n",
       "    </tr>\n",
       "    <tr>\n",
       "      <th>2</th>\n",
       "      <td>1.0</td>\n",
       "    </tr>\n",
       "    <tr>\n",
       "      <th>3</th>\n",
       "      <td>1.0</td>\n",
       "    </tr>\n",
       "    <tr>\n",
       "      <th>4</th>\n",
       "      <td>-1.0</td>\n",
       "    </tr>\n",
       "    <tr>\n",
       "      <th>...</th>\n",
       "      <td>...</td>\n",
       "    </tr>\n",
       "    <tr>\n",
       "      <th>11994</th>\n",
       "      <td>-1.0</td>\n",
       "    </tr>\n",
       "    <tr>\n",
       "      <th>11995</th>\n",
       "      <td>1.0</td>\n",
       "    </tr>\n",
       "    <tr>\n",
       "      <th>11996</th>\n",
       "      <td>1.0</td>\n",
       "    </tr>\n",
       "    <tr>\n",
       "      <th>11997</th>\n",
       "      <td>-1.0</td>\n",
       "    </tr>\n",
       "    <tr>\n",
       "      <th>11998</th>\n",
       "      <td>-1.0</td>\n",
       "    </tr>\n",
       "  </tbody>\n",
       "</table>\n",
       "<p>11999 rows × 1 columns</p>\n",
       "</div>"
      ],
      "text/plain": [
       "       -1.000000000000000000e+00\n",
       "0                            1.0\n",
       "1                            1.0\n",
       "2                            1.0\n",
       "3                            1.0\n",
       "4                           -1.0\n",
       "...                          ...\n",
       "11994                       -1.0\n",
       "11995                        1.0\n",
       "11996                        1.0\n",
       "11997                       -1.0\n",
       "11998                       -1.0\n",
       "\n",
       "[11999 rows x 1 columns]"
      ]
     },
     "execution_count": 8,
     "metadata": {},
     "output_type": "execute_result"
    }
   ],
   "source": [
    "X_laybel"
   ]
  },
  {
   "cell_type": "code",
   "execution_count": 9,
   "id": "30670ea9",
   "metadata": {},
   "outputs": [
    {
     "data": {
      "text/html": [
       "<div>\n",
       "<style scoped>\n",
       "    .dataframe tbody tr th:only-of-type {\n",
       "        vertical-align: middle;\n",
       "    }\n",
       "\n",
       "    .dataframe tbody tr th {\n",
       "        vertical-align: top;\n",
       "    }\n",
       "\n",
       "    .dataframe thead th {\n",
       "        text-align: right;\n",
       "    }\n",
       "</style>\n",
       "<table border=\"1\" class=\"dataframe\">\n",
       "  <thead>\n",
       "    <tr style=\"text-align: right;\">\n",
       "      <th></th>\n",
       "      <th>1.000000000000000000e+00</th>\n",
       "    </tr>\n",
       "  </thead>\n",
       "  <tbody>\n",
       "    <tr>\n",
       "      <th>0</th>\n",
       "      <td>-1.0</td>\n",
       "    </tr>\n",
       "    <tr>\n",
       "      <th>1</th>\n",
       "      <td>1.0</td>\n",
       "    </tr>\n",
       "    <tr>\n",
       "      <th>2</th>\n",
       "      <td>-1.0</td>\n",
       "    </tr>\n",
       "    <tr>\n",
       "      <th>3</th>\n",
       "      <td>1.0</td>\n",
       "    </tr>\n",
       "    <tr>\n",
       "      <th>4</th>\n",
       "      <td>-1.0</td>\n",
       "    </tr>\n",
       "    <tr>\n",
       "      <th>...</th>\n",
       "      <td>...</td>\n",
       "    </tr>\n",
       "    <tr>\n",
       "      <th>3954</th>\n",
       "      <td>-1.0</td>\n",
       "    </tr>\n",
       "    <tr>\n",
       "      <th>3955</th>\n",
       "      <td>1.0</td>\n",
       "    </tr>\n",
       "    <tr>\n",
       "      <th>3956</th>\n",
       "      <td>-1.0</td>\n",
       "    </tr>\n",
       "    <tr>\n",
       "      <th>3957</th>\n",
       "      <td>-1.0</td>\n",
       "    </tr>\n",
       "    <tr>\n",
       "      <th>3958</th>\n",
       "      <td>1.0</td>\n",
       "    </tr>\n",
       "  </tbody>\n",
       "</table>\n",
       "<p>3959 rows × 1 columns</p>\n",
       "</div>"
      ],
      "text/plain": [
       "      1.000000000000000000e+00\n",
       "0                         -1.0\n",
       "1                          1.0\n",
       "2                         -1.0\n",
       "3                          1.0\n",
       "4                         -1.0\n",
       "...                        ...\n",
       "3954                      -1.0\n",
       "3955                       1.0\n",
       "3956                      -1.0\n",
       "3957                      -1.0\n",
       "3958                       1.0\n",
       "\n",
       "[3959 rows x 1 columns]"
      ]
     },
     "execution_count": 9,
     "metadata": {},
     "output_type": "execute_result"
    }
   ],
   "source": [
    "y_laybel\n"
   ]
  },
  {
   "cell_type": "markdown",
   "id": "0feb62ed",
   "metadata": {},
   "source": [
    "trying to use library of PIL to view image but not working."
   ]
  },
  {
   "cell_type": "markdown",
   "id": "08566644",
   "metadata": {},
   "source": [
    "img.fromarray(data[0].reshape (28,28))"
   ]
  },
  {
   "cell_type": "markdown",
   "id": "ad0ac3d7",
   "metadata": {},
   "source": [
    "view images usign matplot lib library"
   ]
  },
  {
   "cell_type": "markdown",
   "id": "d09a1fdd",
   "metadata": {},
   "source": [
    "no_of_fig = 20\n",
    "\n",
    "fig, ax = plt.subplots (nrows=no_of_fig,figsize = (5, no_of_fig*5))\n",
    "\n",
    "for fig_index in range (no_of_fig):\n",
    "    ax[fig_index].imshow (data[fig_index].reshape(28,28))\n"
   ]
  },
  {
   "cell_type": "markdown",
   "id": "c65e8fbd",
   "metadata": {},
   "source": [
    "#### Remarks\n",
    "after looking at the images in from the data.\n",
    "its seems like these are the images of male and female shirts.\n",
    "\n",
    "Lets look at the data about what label is assigned this data.\n"
   ]
  },
  {
   "cell_type": "markdown",
   "id": "f6ce9db6",
   "metadata": {},
   "source": [
    "### Loading  label dataset\n",
    "\n",
    "now loading laybeled datasets"
   ]
  },
  {
   "cell_type": "code",
   "execution_count": 15,
   "id": "6b0c5744",
   "metadata": {},
   "outputs": [
    {
     "name": "stdout",
     "output_type": "stream",
     "text": [
      "(11999, 785)\n",
      "(3959, 785)\n"
     ]
    }
   ],
   "source": [
    "\n",
    "print (X_data.shape)\n",
    "\n",
    "print (y_data.shape)\n",
    "\n"
   ]
  },
  {
   "cell_type": "markdown",
   "id": "3404afd7",
   "metadata": {},
   "source": [
    "checking first 10 images tages 1"
   ]
  },
  {
   "cell_type": "code",
   "execution_count": 13,
   "id": "646cb562",
   "metadata": {},
   "outputs": [
    {
     "ename": "ValueError",
     "evalue": "cannot reshape array of size 785 into shape (28,28)",
     "output_type": "error",
     "traceback": [
      "\u001b[1;31m---------------------------------------------------------------------------\u001b[0m",
      "\u001b[1;31mValueError\u001b[0m                                Traceback (most recent call last)",
      "\u001b[1;32m~\\AppData\\Local\\Temp\\ipykernel_18568\\4174246813.py\u001b[0m in \u001b[0;36m<module>\u001b[1;34m\u001b[0m\n\u001b[0;32m     14\u001b[0m     \u001b[1;32mfor\u001b[0m \u001b[0mrow\u001b[0m \u001b[1;32min\u001b[0m \u001b[0mrange\u001b[0m \u001b[1;33m(\u001b[0m\u001b[0mno_fig_to_disp\u001b[0m\u001b[1;33m)\u001b[0m\u001b[1;33m:\u001b[0m\u001b[1;33m\u001b[0m\u001b[1;33m\u001b[0m\u001b[0m\n\u001b[0;32m     15\u001b[0m \u001b[1;33m\u001b[0m\u001b[0m\n\u001b[1;32m---> 16\u001b[1;33m         \u001b[0max\u001b[0m\u001b[1;33m[\u001b[0m \u001b[0mrow\u001b[0m\u001b[1;33m,\u001b[0m \u001b[0mrow\u001b[0m\u001b[1;33m]\u001b[0m\u001b[1;33m.\u001b[0m\u001b[0mimshow\u001b[0m \u001b[1;33m(\u001b[0m\u001b[0mtemp_array\u001b[0m\u001b[1;33m.\u001b[0m\u001b[0mloc\u001b[0m\u001b[1;33m[\u001b[0m\u001b[0mrow\u001b[0m\u001b[1;33m]\u001b[0m\u001b[1;33m.\u001b[0m\u001b[0mto_numpy\u001b[0m\u001b[1;33m(\u001b[0m\u001b[1;33m)\u001b[0m\u001b[1;33m.\u001b[0m\u001b[0mreshape\u001b[0m\u001b[1;33m(\u001b[0m\u001b[1;36m28\u001b[0m\u001b[1;33m,\u001b[0m\u001b[1;36m28\u001b[0m\u001b[1;33m)\u001b[0m\u001b[1;33m)\u001b[0m\u001b[1;33m\u001b[0m\u001b[1;33m\u001b[0m\u001b[0m\n\u001b[0m\u001b[0;32m     17\u001b[0m \u001b[1;33m\u001b[0m\u001b[0m\n\u001b[0;32m     18\u001b[0m \u001b[1;33m\u001b[0m\u001b[0m\n",
      "\u001b[1;31mValueError\u001b[0m: cannot reshape array of size 785 into shape (28,28)"
     ]
    },
    {
     "data": {
      "image/png": "[encoded data removed]",
      "text/plain": [
       "<Figure size 1000x5000 with 20 Axes>"
      ]
     },
     "metadata": {},
     "output_type": "display_data"
    }
   ],
   "source": [
    "#the number of images you want to display\n",
    "no_fig_to_disp = 10\n",
    "#cheking the number of fiture we have to display\n",
    "no_feature = len(np.unique(X_laybel))\n",
    "\n",
    "# using the feature to view the images of different features side by side.\n",
    "# the number of images can be changes from no_fg_to_disp\n",
    "fig , ax = plt.subplots(nrows= no_fig_to_disp ,ncols= no_feature, figsize = (no_feature*5, no_fig_to_disp * 5))\n",
    "\n",
    "for col in range (no_feature):\n",
    "    # for loop for sngle feature\n",
    "    feture_value = np.unique(X_laybel)\n",
    "    temp_array = X_data[X_laybel == feture_value[col] ]\n",
    "    for row in range (no_fig_to_disp):\n",
    "        \n",
    "        ax[ row, row].imshow (temp_array.loc[row].to_numpy().reshape(28,28))\n",
    "        \n",
    "                       "
   ]
  },
  {
   "cell_type": "code",
   "execution_count": null,
   "id": "61855978",
   "metadata": {},
   "outputs": [],
   "source": [
    "X[y == 1].reindex()\n",
    "X.loc[0].to_numpy().reshape(28,28)"
   ]
  },
  {
   "cell_type": "code",
   "execution_count": null,
   "id": "b9607564",
   "metadata": {},
   "outputs": [],
   "source": []
  },
  {
   "cell_type": "code",
   "execution_count": null,
   "id": "4e0ba561",
   "metadata": {},
   "outputs": [],
   "source": [
    "t"
   ]
  },
  {
   "cell_type": "code",
   "execution_count": null,
   "id": "0a1a61de",
   "metadata": {},
   "outputs": [],
   "source": []
  },
  {
   "cell_type": "code",
   "execution_count": null,
   "id": "8bc7e1c2",
   "metadata": {},
   "outputs": [],
   "source": []
  },
  {
   "cell_type": "code",
   "execution_count": null,
   "id": "1d7767bd",
   "metadata": {},
   "outputs": [],
   "source": []
  },
  {
   "cell_type": "code",
   "execution_count": null,
   "id": "e0a250fc",
   "metadata": {},
   "outputs": [],
   "source": []
  },
  {
   "cell_type": "code",
   "execution_count": null,
   "id": "20feeb1c",
   "metadata": {},
   "outputs": [],
   "source": []
  },
  {
   "cell_type": "code",
   "execution_count": null,
   "id": "047c5c4f",
   "metadata": {},
   "outputs": [],
   "source": []
  },
  {
   "cell_type": "code",
   "execution_count": null,
   "id": "dc5eaae4",
   "metadata": {},
   "outputs": [],
   "source": []
  },
  {
   "cell_type": "code",
   "execution_count": null,
   "id": "1af3f608",
   "metadata": {},
   "outputs": [],
   "source": []
  }
 ],
 "metadata": {
  "kernelspec": {
   "display_name": "Python 3 (ipykernel)",
   "language": "python",
   "name": "python3"
  },
  "language_info": {
   "codemirror_mode": {
    "name": "ipython",
    "version": 3
   },
   "file_extension": ".py",
   "mimetype": "text/x-python",
   "name": "python",
   "nbconvert_exporter": "python",
   "pygments_lexer": "ipython3",
   "version": "3.9.13"
  }
 },
 "nbformat": 4,
 "nbformat_minor": 5
}
